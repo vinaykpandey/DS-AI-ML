{
 "cells": [
  {
   "cell_type": "code",
   "execution_count": 7,
   "metadata": {},
   "outputs": [
    {
     "name": "stdout",
     "output_type": "stream",
     "text": [
      "['ham', 'ham', 'spam', 'ham', 'ham']\n",
      "['Go until jurong point, crazy.. Available only in bugis n great world la e buffet... Cine there got amore wat...', 'Ok lar... Joking wif u oni...', \"Free entry in 2 a wkly comp to win FA Cup final tkts 21st May 2005. Text FA to 87121 to receive entry question(std txt rate)T&C's apply 08452810075over18's\", 'U dun say so early hor... U c already then say...', \"Nah I don't think he goes to usf, he lives around here though\"]\n"
     ]
    }
   ],
   "source": [
    "# https://archive.ics.uci.edu/ml/datasets/sms+spam+collection\n",
    "# Download: Data Folder,\n",
    "raw_data = open('SMSSpamCollection').read()\n",
    "raw_data[0:500]\n",
    "\n",
    "parsed_data = raw_data.replace('\\t', '\\n').split('\\n')\n",
    "# print(parsed_data)\n",
    "label_list = parsed_data[0::2]\n",
    "msg_list = parsed_data[1::2]\n",
    "print(label_list[:5])\n",
    "print(msg_list[:5])\n"
   ]
  },
  {
   "cell_type": "code",
   "execution_count": 27,
   "metadata": {},
   "outputs": [
    {
     "name": "stdout",
     "output_type": "stream",
     "text": [
      "length of lable  5575 length of sms:  5574\n",
      "ham count       label                                                sms\n",
      "0      ham  Go until jurong point, crazy.. Available only ...\n",
      "1      ham                      Ok lar... Joking wif u oni...\n",
      "3      ham  U dun say so early hor... U c already then say...\n",
      "4      ham  Nah I don't think he goes to usf, he lives aro...\n",
      "6      ham  Even my brother is not like to speak with me. ...\n",
      "...    ...                                                ...\n",
      "5567   ham                                       Huh y lei...\n",
      "5570   ham               Will ü b going to esplanade fr home?\n",
      "5571   ham  Pity, * was in mood for that. So...any other s...\n",
      "5572   ham  The guy did some bitching but I acted like i'd...\n",
      "5573   ham                         Rofl. Its true to its name\n",
      "\n",
      "[4827 rows x 2 columns]\n"
     ]
    }
   ],
   "source": [
    "import pandas as pd\n",
    "df = pd.DataFrame(\n",
    "    {\n",
    "        'label': label_list[:-1],\n",
    "        'sms': msg_list\n",
    "    }\n",
    ")\n",
    "print(\"length of lable \", len(label_list), \"length of sms: \", len(msg_list))\n",
    "df.head(10)\n",
    "#ham/spam\n"
   ]
  },
  {
   "cell_type": "code",
   "execution_count": 39,
   "metadata": {},
   "outputs": [
    {
     "name": "stdout",
     "output_type": "stream",
     "text": [
      "ham count  4825\n",
      "spam count  747\n",
      "spam count  0\n"
     ]
    }
   ],
   "source": [
    "# using pandas csv read\n",
    "df = pd.read_csv('SMSSpamCollection', sep=\"\\t\", header=None)\n",
    "df\n",
    "df.columns = ['label', 'sms']\n",
    "# df\n",
    "# print(len(df.columns), len(df))\n",
    "ham_df = df[df['label']== \"ham\"]\n",
    "print(\"ham count \", len(ham_df))\n",
    "spam_df = df[df['label']== \"spam\"]\n",
    "print(\"spam count \", len(spam_df))\n",
    "\n",
    "missing_label_count = df[\"label\"].isnull().sum()\n",
    "print(\"missing_label_count \", missing_label_count)\n",
    "missing_sms_count = df[\"sms\"].isnull().sum()\n",
    "print(\"missing_sms_count \", missing_sms_count)\n"
   ]
  },
  {
   "cell_type": "code",
   "execution_count": null,
   "metadata": {},
   "outputs": [],
   "source": []
  },
  {
   "cell_type": "code",
   "execution_count": null,
   "metadata": {},
   "outputs": [],
   "source": []
  }
 ],
 "metadata": {
  "kernelspec": {
   "display_name": "Python 3",
   "language": "python",
   "name": "python3"
  },
  "language_info": {
   "codemirror_mode": {
    "name": "ipython",
    "version": 3
   },
   "file_extension": ".py",
   "mimetype": "text/x-python",
   "name": "python",
   "nbconvert_exporter": "python",
   "pygments_lexer": "ipython3",
   "version": "3.6.9"
  }
 },
 "nbformat": 4,
 "nbformat_minor": 4
}
