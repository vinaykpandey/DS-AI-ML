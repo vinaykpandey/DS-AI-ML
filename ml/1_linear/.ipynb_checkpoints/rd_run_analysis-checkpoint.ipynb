{
 "cells": [
  {
   "cell_type": "code",
   "execution_count": 4,
   "metadata": {},
   "outputs": [
    {
     "name": "stdout",
     "output_type": "stream",
     "text": [
      "['year-runs']\n",
      "    year  runs  total_runs\n",
      "0   1996   436         436\n",
      "1   1997   984        1420\n",
      "2   1998   413        1833\n",
      "3   1999   865        2698\n",
      "4   2000   624        3322\n",
      "5   2001   935        4257\n",
      "6   2002  1375        5632\n",
      "7   2003   803        6435\n",
      "8   2004   946        7381\n",
      "9   2005   640        8021\n",
      "10  2006  1095        9116\n",
      "11  2007   606        9722\n",
      "12  2008   805       10527\n",
      "13  2009   747       11274\n",
      "14  2010   771       12045\n",
      "15  2011  1145       13190\n",
      "[14.13529412] -27495.686764705868\n",
      "[854.34558824] -1704974.573529411\n",
      "current year run  [944.525]\n",
      "total year run  [13968.75]\n"
     ]
    },
    {
     "data": {
      "image/png": "[encoded data removed]",
      "text/plain": [
       "<Figure size 432x288 with 1 Axes>"
      ]
     },
     "metadata": {
      "needs_background": "light"
     },
     "output_type": "display_data"
    }
   ],
   "source": [
    "import pandas as pd \n",
    "import numpy as np\n",
    "from sklearn import linear_model\n",
    "import matplotlib.pyplot as plt\n",
    "\n",
    "# Import the excel file and call it xls_file \n",
    "excel_file = pd.ExcelFile('dravid_year_wise_run_1996_to_2011.xlsx') \n",
    "\n",
    "# View the excel_file's sheet names \n",
    "print(excel_file.sheet_names) \n",
    "\n",
    "# Load the excel_file's Sheet1 as a dataframe \n",
    "df = excel_file.parse('year-runs')\n",
    "print(df)\n",
    "year_list=df.year\n",
    "run_list=df.runs\n",
    "total_run_list=df.total_runs\n",
    "plt.xlabel('year')\n",
    "plt.ylabel('runs')\n",
    "plt.ylabel('total_runs')\n",
    "plt.plot(year_list,run_list,color='red',marker='*')\n",
    "plt.plot(year_list,total_run_list,color='blue',marker='.')\n",
    "df_x = pd.DataFrame(df.year)\n",
    "reg_run = linear_model.LinearRegression()\n",
    "reg_total_run = linear_model.LinearRegression()\n",
    "reg_run.fit(df_x, run_list)\n",
    "reg_total_run.fit(df_x, total_run_list)\n",
    "print(reg_run.coef_, reg_run.intercept_)\n",
    "print(reg_total_run.coef_, reg_total_run.intercept_)\n",
    "print(\"current year run \", reg_run.predict([[2012]]))\n",
    "print(\"total year run \", reg_total_run.predict([[2012]]))\n"
   ]
  },
  {
   "cell_type": "code",
   "execution_count": null,
   "metadata": {},
   "outputs": [],
   "source": []
  },
  {
   "cell_type": "code",
   "execution_count": null,
   "metadata": {},
   "outputs": [],
   "source": []
  },
  {
   "cell_type": "code",
   "execution_count": null,
   "metadata": {},
   "outputs": [],
   "source": []
  }
 ],
 "metadata": {
  "kernelspec": {
   "display_name": "Python 3",
   "language": "python",
   "name": "python3"
  },
  "language_info": {
   "codemirror_mode": {
    "name": "ipython",
    "version": 3
   },
   "file_extension": ".py",
   "mimetype": "text/x-python",
   "name": "python",
   "nbconvert_exporter": "python",
   "pygments_lexer": "ipython3",
   "version": "3.6.9"
  }
 },
 "nbformat": 4,
 "nbformat_minor": 4
}
